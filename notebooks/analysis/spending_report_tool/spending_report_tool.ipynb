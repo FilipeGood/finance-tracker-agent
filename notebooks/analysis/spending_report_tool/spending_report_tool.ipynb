{
 "cells": [
  {
   "cell_type": "code",
   "execution_count": null,
   "id": "e1cc74ae",
   "metadata": {},
   "outputs": [],
   "source": [
    "%reload_ext autoreload\n",
    "%autoreload 2\n",
    "\n",
    "current_jupyter_path: str = %pwd # type: ignore\n",
    "while len(current_jupyter_path) > 1 and not current_jupyter_path.endswith(\"finance-tracker-agent\"):\n",
    "    %cd ..\n",
    "    current_jupyter_path = %pwd # type: ignore"
   ]
  },
  {
   "cell_type": "code",
   "execution_count": null,
   "id": "1f00ef19",
   "metadata": {},
   "outputs": [],
   "source": [
    "from langchain.agents import (\n",
    "    create_tool_calling_agent,\n",
    "    AgentExecutor,\n",
    "    create_react_agent,\n",
    ")\n",
    "from langchain_openai import ChatOpenAI\n",
    "from src.tools import (\n",
    "    save_expense_tool,\n",
    "    get_current_date_tool,\n",
    "    get_current_month_tool,\n",
    "    get_all_expenses,\n",
    "    update_last_expense_attribute,\n",
    "    get_spendings_by_year_and_month,\n",
    "    get_spendings_by_category_for_specific_month,\n",
    "    get_spendings_by_main_and_subcategory_for_specific_month,\n",
    "    get_spendings_by_account_for_specific_month,\n",
    ")\n",
    "from langchain_core.prompts import ChatPromptTemplate\n",
    "from langchain import hub\n",
    "from src.prompts import openai_functions_agent_prompt\n",
    "from langchain.agents import AgentExecutor, create_openai_functions_agent\n",
    "\n",
    "\n",
    "llm = ChatOpenAI(model=\"gpt-3.5-turbo\")  # gpt-4.1-mini"
   ]
  },
  {
   "cell_type": "code",
   "execution_count": null,
   "id": "3574318b",
   "metadata": {},
   "outputs": [],
   "source": [
    "prompt = openai_functions_agent_prompt\n",
    "\n",
    "tools = [\n",
    "    save_expense_tool,\n",
    "    get_current_date_tool,\n",
    "    get_current_month_tool,\n",
    "    get_all_expenses,\n",
    "    update_last_expense_attribute,\n",
    "    get_spendings_by_year_and_month,\n",
    "    get_spendings_by_category_for_specific_month,\n",
    "    get_spendings_by_main_and_subcategory_for_specific_month,\n",
    "    get_spendings_by_account_for_specific_month,\n",
    "]\n",
    "\n",
    "agent = create_openai_functions_agent(llm, tools, prompt)\n",
    "agent_executor = AgentExecutor(agent=agent, tools=tools, verbose=True)"
   ]
  },
  {
   "cell_type": "markdown",
   "id": "e8f08e93",
   "metadata": {},
   "source": [
    "### Get spendings by year and month"
   ]
  },
  {
   "cell_type": "code",
   "execution_count": null,
   "id": "3b642f62",
   "metadata": {},
   "outputs": [],
   "source": [
    "input_text = \"Based on my expenses in the csv file, can you do a monthly spending report of the last 3 months only? We are in august\"\n",
    "result = agent_executor.invoke({\"input\": input_text})\n",
    "\n",
    "print(result[\"output\"])"
   ]
  },
  {
   "cell_type": "markdown",
   "id": "72ea981d",
   "metadata": {},
   "source": [
    "### Get spendings by category for specific month"
   ]
  },
  {
   "cell_type": "code",
   "execution_count": null,
   "id": "b5e959f8",
   "metadata": {},
   "outputs": [],
   "source": [
    "input_text = \"Can I get the spendings by category for this current month?\"\n",
    "input_text = \"Can I get the spendings by category for the last month?\"\n",
    "# input_text = \"Can I get the spendings by category for the month of June?\"\n",
    "\n",
    "result = agent_executor.invoke({\"input\": input_text})\n",
    "\n",
    "print(result[\"output\"])"
   ]
  },
  {
   "cell_type": "markdown",
   "id": "2e7399ab",
   "metadata": {},
   "source": [
    "### Get spendings by main and sub category for specific month"
   ]
  },
  {
   "cell_type": "code",
   "execution_count": null,
   "id": "047cc746",
   "metadata": {},
   "outputs": [],
   "source": [
    "input_text = (\n",
    "    \"Can I get the spendings by category and sub_category for this current month?\"\n",
    ")\n",
    "input_text = \"Can I get the spendings by category and sub_category for the last month?\"\n",
    "# input_text = \"Can I get the spendings by category and sub_category for the month of June?\"\n",
    "\n",
    "result = agent_executor.invoke({\"input\": input_text})\n",
    "\n",
    "print(result[\"output\"])"
   ]
  },
  {
   "cell_type": "markdown",
   "id": "e3ff757e",
   "metadata": {},
   "source": [
    "### Get spendings by account for specific month"
   ]
  },
  {
   "cell_type": "code",
   "execution_count": null,
   "id": "a8a237c0",
   "metadata": {},
   "outputs": [],
   "source": [
    "input_text = (\n",
    "    \"Can I get the spendings by category and sub_category for this current month?\"\n",
    ")\n",
    "input_text = \"Can I get the spendings by account?for the last month?\"\n",
    "# input_text = \"Can I get the spendings by category and sub_category for the month of June?\"\n",
    "\n",
    "result = agent_executor.invoke({\"input\": input_text})\n",
    "\n",
    "print(result[\"output\"])"
   ]
  },
  {
   "cell_type": "markdown",
   "id": "594fd139",
   "metadata": {},
   "source": [
    "### Get spendings full report"
   ]
  },
  {
   "cell_type": "code",
   "execution_count": null,
   "id": "568f7761",
   "metadata": {},
   "outputs": [],
   "source": [
    "input_text = \"Can I get the full and detailed spending report for this current month? Include as much info as possible\"\n",
    "\n",
    "# input_text = \"Can I get the spendings by category and sub_category for the month of June?\"\n",
    "\n",
    "result = agent_executor.invoke({\"input\": input_text})\n",
    "\n",
    "print(result[\"output\"])"
   ]
  }
 ],
 "metadata": {
  "kernelspec": {
   "display_name": "finance-tracker-agent-5uqbXas2",
   "language": "python",
   "name": "python3"
  },
  "language_info": {
   "codemirror_mode": {
    "name": "ipython",
    "version": 3
   },
   "file_extension": ".py",
   "mimetype": "text/x-python",
   "name": "python",
   "nbconvert_exporter": "python",
   "pygments_lexer": "ipython3",
   "version": "3.10.6"
  }
 },
 "nbformat": 4,
 "nbformat_minor": 5
}
