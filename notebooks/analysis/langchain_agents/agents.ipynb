{
 "cells": [
  {
   "cell_type": "code",
   "execution_count": null,
   "id": "fdf29c34",
   "metadata": {},
   "outputs": [],
   "source": [
    "%reload_ext autoreload\n",
    "%autoreload 2\n",
    "\n",
    "current_jupyter_path: str = %pwd # type: ignore\n",
    "while len(current_jupyter_path) > 1 and not current_jupyter_path.endswith(\"finance-tracker-agent\"):\n",
    "    %cd ..\n",
    "    current_jupyter_path = %pwd # type: ignore"
   ]
  },
  {
   "cell_type": "code",
   "execution_count": null,
   "id": "4b770249",
   "metadata": {},
   "outputs": [],
   "source": [
    "from langchain.agents import (\n",
    "    create_tool_calling_agent,\n",
    "    AgentExecutor,\n",
    "    create_react_agent,\n",
    ")\n",
    "from langchain_openai import ChatOpenAI\n",
    "from src.tools import weather_tool, get_weather\n",
    "from langchain_core.prompts import ChatPromptTemplate\n",
    "from langchain import hub\n",
    "\n",
    "\n",
    "llm = ChatOpenAI(model=\"gpt-3.5-turbo\")"
   ]
  },
  {
   "cell_type": "markdown",
   "id": "1687fe5b",
   "metadata": {},
   "source": [
    "## create_tool_calling_agent"
   ]
  },
  {
   "cell_type": "code",
   "execution_count": null,
   "id": "e3e617e0",
   "metadata": {},
   "outputs": [],
   "source": [
    "prompt = ChatPromptTemplate.from_messages(\n",
    "    [\n",
    "        (\"system\", \"You are a weather assistant\"),\n",
    "        (\"placeholder\", \"{chat_history}\"),\n",
    "        (\"human\", \"{input}\"),\n",
    "        (\"placeholder\", \"{agent_scratchpad}\"),\n",
    "    ]\n",
    ")"
   ]
  },
  {
   "cell_type": "code",
   "execution_count": null,
   "id": "43823c4d",
   "metadata": {},
   "outputs": [],
   "source": [
    "agent = create_tool_calling_agent(llm=llm, tools=[weather_tool], prompt=prompt)\n",
    "\n",
    "executor = AgentExecutor(agent=agent, tools=[weather_tool], verbose=True)\n",
    "\n",
    "result = executor.invoke({\"input\": \"What is the weather in London?\"})\n",
    "\n",
    "print(result)"
   ]
  },
  {
   "cell_type": "markdown",
   "id": "12955767",
   "metadata": {},
   "source": [
    "## create_react_agent"
   ]
  },
  {
   "cell_type": "code",
   "execution_count": null,
   "id": "cbfeea60",
   "metadata": {},
   "outputs": [],
   "source": [
    "prompt_template = hub.pull(\"hwchase17/react\")  # ReAct-style reasoning prompt\n",
    "tools = [weather_tool]\n",
    "\n",
    "\n",
    "agent = create_react_agent(llm, tools, prompt_template)\n",
    "agent_executor = AgentExecutor(agent=agent, tools=tools)\n",
    "\n",
    "\n",
    "result = executor.invoke({\"input\": \"What is the weather in Portugal?\"})"
   ]
  },
  {
   "cell_type": "markdown",
   "id": "e29f560c",
   "metadata": {},
   "source": [
    "**langgraph**"
   ]
  },
  {
   "cell_type": "code",
   "execution_count": null,
   "id": "658880d5",
   "metadata": {},
   "outputs": [],
   "source": [
    "from langgraph.prebuilt import create_react_agent\n",
    "\n",
    "\n",
    "prompt = ChatPromptTemplate.from_messages(\n",
    "    [\n",
    "        (\n",
    "            \"system\",\n",
    "            \"You are a weather assistant. Use the provided tools to answer queries about the weather.\",\n",
    "        ),\n",
    "        (\"human\", \"{input}\"),\n",
    "        (\"placeholder\", \"{agent_scratchpad}\"),\n",
    "    ]\n",
    ")\n",
    "\n",
    "tools = [weather_tool]\n",
    "\n",
    "agent = create_react_agent(model=llm, tools=tools, prompt=prompt)\n",
    "\n",
    "\n",
    "result = agent.invoke(\n",
    "    {\"input\": \"What is the weather in Portugal?\", \"agent_scratchpad\": \"\"}\n",
    ")\n",
    "result"
   ]
  },
  {
   "cell_type": "markdown",
   "id": "b83e44ba",
   "metadata": {},
   "source": [
    "## create_structured_chat_agent"
   ]
  },
  {
   "cell_type": "code",
   "execution_count": null,
   "id": "823b7878",
   "metadata": {},
   "outputs": [],
   "source": [
    "from langchain.agents import AgentExecutor, create_structured_chat_agent\n",
    "\n",
    "prompt = hub.pull(\"hwchase17/structured-chat-agent\")\n",
    "\n",
    "\n",
    "agent = create_structured_chat_agent(llm, tools, prompt)\n",
    "agent_executor = AgentExecutor(agent=agent, tools=tools)\n",
    "\n",
    "agent_executor.invoke({\"input\": \"hi\"})\n",
    "\n",
    "# Using with chat history\n",
    "executor.invoke({\"input\": \"What is the weather in Portugal?\"})"
   ]
  },
  {
   "cell_type": "markdown",
   "id": "8a989042",
   "metadata": {},
   "source": [
    "## create_openai_functions_agent"
   ]
  },
  {
   "cell_type": "code",
   "execution_count": null,
   "id": "acbad714",
   "metadata": {},
   "outputs": [],
   "source": [
    "from langchain.agents import AgentExecutor, create_openai_functions_agent\n",
    "\n",
    "\n",
    "prompt = hub.pull(\"hwchase17/openai-functions-agent\")\n",
    "\n",
    "tools = [weather_tool]\n",
    "\n",
    "agent = create_openai_functions_agent(llm, tools, prompt)\n",
    "agent_executor = AgentExecutor(agent=agent, tools=tools)\n",
    "\n",
    "result = agent_executor.invoke({\"input\": \"What is the weather in Portugal?\"})\n",
    "result"
   ]
  },
  {
   "cell_type": "code",
   "execution_count": null,
   "id": "2833f8f7",
   "metadata": {},
   "outputs": [],
   "source": []
  }
 ],
 "metadata": {
  "kernelspec": {
   "display_name": "finance-tracker-agent-5uqbXas2",
   "language": "python",
   "name": "python3"
  },
  "language_info": {
   "codemirror_mode": {
    "name": "ipython",
    "version": 3
   },
   "file_extension": ".py",
   "mimetype": "text/x-python",
   "name": "python",
   "nbconvert_exporter": "python",
   "pygments_lexer": "ipython3",
   "version": "3.10.6"
  }
 },
 "nbformat": 4,
 "nbformat_minor": 5
}
