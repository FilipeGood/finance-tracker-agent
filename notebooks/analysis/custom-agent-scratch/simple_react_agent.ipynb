{
 "cells": [
  {
   "cell_type": "code",
   "execution_count": 7,
   "id": "daf81fb9",
   "metadata": {},
   "outputs": [],
   "source": [
    "%reload_ext autoreload\n",
    "%autoreload 2\n",
    "\n",
    "current_jupyter_path: str = %pwd # type: ignore\n",
    "while len(current_jupyter_path) > 1 and not current_jupyter_path.endswith(\"finance-tracker-agent\"):\n",
    "    %cd ..\n",
    "    current_jupyter_path = %pwd # type: ignore"
   ]
  },
  {
   "cell_type": "code",
   "execution_count": 8,
   "id": "51541f9b",
   "metadata": {},
   "outputs": [],
   "source": [
    "from src.openai_module import generate_text_with_conversation\n",
    "from src.prompts import react_system_prompt\n",
    "from src.json_helpers import extract_json"
   ]
  },
  {
   "cell_type": "code",
   "execution_count": 9,
   "id": "26f49e2c",
   "metadata": {},
   "outputs": [],
   "source": [
    "def save_expense(year, month, main_category, sub_category, account, amount, note):\n",
    "    # This function would save the expense to a database or file.\n",
    "    print(\n",
    "        f\"\\n\\n Expense saved: {year}, {month}, {main_category}, {sub_category}, {account}, {amount}, {note}\"\n",
    "    )\n",
    "\n",
    "\n",
    "available_tools = {\"save_expense\": save_expense}"
   ]
  },
  {
   "cell_type": "code",
   "execution_count": 10,
   "id": "99783c8d",
   "metadata": {},
   "outputs": [],
   "source": [
    "prompt = \"I would like to save an expense: new tshirt for 15€\"\n",
    "prompt = \"Last night I went for some drinks with friends and spent 20€\"\n",
    "prompt = \"Spent 50€ on groceries 17 June 2025\"\n",
    "prompt = \"Brought cigs for 10€ on 15 July 2025\"\n",
    "messages = [\n",
    "    {\"role\": \"system\", \"content\": react_system_prompt},\n",
    "    {\"role\": \"user\", \"content\": prompt},\n",
    "]"
   ]
  },
  {
   "cell_type": "code",
   "execution_count": 11,
   "id": "35aaf7fe",
   "metadata": {},
   "outputs": [
    {
     "name": "stdout",
     "output_type": "stream",
     "text": [
      "-------------------------------\n",
      "Turn 1:\n",
      "Response: Thought: The expense is for cigarettes, which falls under the 'Drinks' category. The sub-category would be 'Drinks'. The account used is likely the 'Main Account'. The year is 2025, and the month is July. The amount spent is 10.0€, and no specific note is given.\n",
      "\n",
      "Action: \n",
      "\n",
      "{\n",
      "  \"function_name\": \"save_expense\",\n",
      "  \"function_parms\": {\n",
      "    \"year\": 2025, \n",
      "    \"month\": 7, \n",
      "    \"main_category\": \"Drinks\", \n",
      "    \"sub_category\": \"Drinks\", \n",
      "    \"account\": \"Main Account\", \n",
      "    \"amount\": 10.0, \n",
      "    \"note\": \"\"\n",
      "  }\n",
      "}\n",
      "\n",
      "PAUSE\n",
      "Function Name: save_expense\n",
      "Function Params: {'year': 2025, 'month': 7, 'main_category': 'Drinks', 'sub_category': 'Drinks', 'account': 'Main Account', 'amount': 10.0, 'note': ''}\n",
      "\n",
      "\n",
      " Expense saved: 2025, 7, Drinks, Drinks, Main Account, 10.0, \n"
     ]
    }
   ],
   "source": [
    "turn_count = 1\n",
    "max_turns = 3\n",
    "\n",
    "while turn_count < max_turns:\n",
    "\n",
    "    response = generate_text_with_conversation(messages=messages)\n",
    "\n",
    "    print(\"-------------------------------\")\n",
    "    print(f\"Turn {turn_count}:\")\n",
    "    print(\"Response:\", response)\n",
    "\n",
    "    # Extract tool calls from the response\n",
    "\n",
    "    json_action = extract_json(response)\n",
    "\n",
    "    if json_action:\n",
    "        function_name = json_action[0].get(\"function_name\")\n",
    "        function_params = json_action[0][\"function_parms\"]\n",
    "\n",
    "        print(f\"Function Name: {function_name}\")\n",
    "        print(f\"Function Params: {function_params}\")\n",
    "\n",
    "        if function_name in available_tools:\n",
    "\n",
    "            tool = available_tools[function_name]\n",
    "            tool_response = tool(**function_params)\n",
    "\n",
    "            # print(f\"Tool Response: {tool_response}\")\n",
    "\n",
    "            messages.append(\n",
    "                {\"role\": \"user\", \"content\": f\"Response from the tool: {tool_response}\"}\n",
    "            )\n",
    "            break\n",
    "    else:\n",
    "        print(\"\\n\\n No tool calls found in the response.\")\n",
    "        break\n",
    "    turn_count += 1"
   ]
  },
  {
   "cell_type": "code",
   "execution_count": 7,
   "id": "b324ad6a",
   "metadata": {},
   "outputs": [],
   "source": [
    "json_action"
   ]
  },
  {
   "cell_type": "code",
   "execution_count": null,
   "id": "0d63120f",
   "metadata": {},
   "outputs": [],
   "source": []
  }
 ],
 "metadata": {
  "kernelspec": {
   "display_name": "finance-tracker-agent-5uqbXas2",
   "language": "python",
   "name": "python3"
  },
  "language_info": {
   "codemirror_mode": {
    "name": "ipython",
    "version": 3
   },
   "file_extension": ".py",
   "mimetype": "text/x-python",
   "name": "python",
   "nbconvert_exporter": "python",
   "pygments_lexer": "ipython3",
   "version": "3.10.6"
  }
 },
 "nbformat": 4,
 "nbformat_minor": 5
}
