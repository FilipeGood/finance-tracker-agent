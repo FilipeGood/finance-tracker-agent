{
 "cells": [
  {
   "cell_type": "code",
   "execution_count": 29,
   "id": "001d8f73",
   "metadata": {},
   "outputs": [],
   "source": [
    "%reload_ext autoreload\n",
    "%autoreload 2\n",
    "\n",
    "current_jupyter_path: str = %pwd # type: ignore\n",
    "while len(current_jupyter_path) > 1 and not current_jupyter_path.endswith(\"finance-tracker-agent\"):\n",
    "    %cd ..\n",
    "    current_jupyter_path = %pwd # type: ignore"
   ]
  },
  {
   "cell_type": "code",
   "execution_count": 30,
   "id": "3c8d113f",
   "metadata": {},
   "outputs": [],
   "source": [
    "from src.agent import FinanceAgent"
   ]
  },
  {
   "cell_type": "code",
   "execution_count": 31,
   "id": "104ad885",
   "metadata": {},
   "outputs": [],
   "source": [
    "agent = FinanceAgent(verbose=True)"
   ]
  },
  {
   "cell_type": "markdown",
   "id": "90fb7023",
   "metadata": {},
   "source": [
    "#### Add Expense"
   ]
  },
  {
   "cell_type": "code",
   "execution_count": null,
   "id": "29f5313e",
   "metadata": {},
   "outputs": [
    {
     "name": "stdout",
     "output_type": "stream",
     "text": [
      "\n",
      "\n",
      "\u001b[1m> Entering new AgentExecutor chain...\u001b[0m\n",
      "\u001b[32;1m\u001b[1;3m\n",
      "Invoking: `save_expense_tool` with `{'expense_input': {'amount': 10, 'main_category': 'Variable', 'sub_category': 'Gear & Clothing', 'note': 'testing agent'}}`\n",
      "\n",
      "\n",
      "\u001b[0m\u001b[36;1m\u001b[1;3m✅ Expense successfully saved with the following attributes:\n",
      "📅 Date: 2025-08\n",
      "🏷️ Main Category: Variable\n",
      "🔖 Sub Category: Gear & Clothing\n",
      "🏦 Account: Main\n",
      "💰 Amount: $10.00\n",
      "📝 Note: testing agent\u001b[0m\u001b[32;1m\u001b[1;3m✅ Expense successfully saved with the following attributes:\n",
      "📅 Date: 2025-08\n",
      "🏷️ Main Category: Variable\n",
      "🔖 Sub Category: Gear & Clothing\n",
      "🏦 Account: Main\n",
      "💰 Amount: $10.00\n",
      "📝 Note: testing agent\u001b[0m\n",
      "\n",
      "\u001b[1m> Finished chain.\u001b[0m\n"
     ]
    },
    {
     "data": {
      "text/plain": [
       "{'success': True,\n",
       " 'output': '✅ Expense successfully saved with the following attributes:\\n📅 Date: 2025-08\\n🏷️ Main Category: Variable\\n🔖 Sub Category: Gear & Clothing\\n🏦 Account: Main\\n💰 Amount: $10.00\\n📝 Note: testing agent',\n",
       " 'error': None}"
      ]
     },
     "execution_count": 6,
     "metadata": {},
     "output_type": "execute_result"
    }
   ],
   "source": [
    "agent.execute_request(\n",
    "    \"Can you add a new expense of dinner out for 10€? With note 'testing agent'\"\n",
    ")"
   ]
  },
  {
   "cell_type": "markdown",
   "id": "b6d76d27",
   "metadata": {},
   "source": [
    "#### Update Expense"
   ]
  },
  {
   "cell_type": "code",
   "execution_count": 14,
   "id": "07494346",
   "metadata": {},
   "outputs": [
    {
     "name": "stdout",
     "output_type": "stream",
     "text": [
      "\n",
      "\n",
      "\u001b[1m> Entering new AgentExecutor chain...\u001b[0m\n",
      "\u001b[32;1m\u001b[1;3m\n",
      "Invoking: `update_last_expense_attribute` with `{'attribute': 'amount', 'value': 13.5}`\n",
      "\n",
      "\n",
      "\u001b[0mUpdating last expense attribute: amount to 13.5\n",
      "\u001b[33;1m\u001b[1;3m✅ Last expense amount successfully updated to '13.5'.\n",
      "📅 Date: 2025-08\n",
      "🏷️ Main Category: Variable\n",
      "🔖 Sub Category: Gear & Clothing\n",
      "🏦 Account: Main\n",
      "💰 Amount: $12.50\n",
      "📝 Note: testing agent\u001b[0m\u001b[32;1m\u001b[1;3m✅ Last expense amount successfully updated to '13.5'.\n",
      "📅 Date: 2025-08\n",
      "🏷️ Main Category: Variable\n",
      "🔖 Sub Category: Gear & Clothing\n",
      "🏦 Account: Main\n",
      "💰 Amount: $12.50\n",
      "📝 Note: testing agent\u001b[0m\n",
      "\n",
      "\u001b[1m> Finished chain.\u001b[0m\n"
     ]
    },
    {
     "data": {
      "text/plain": [
       "{'success': True,\n",
       " 'output': \"✅ Last expense amount successfully updated to '13.5'.\\n📅 Date: 2025-08\\n🏷️ Main Category: Variable\\n🔖 Sub Category: Gear & Clothing\\n🏦 Account: Main\\n💰 Amount: $12.50\\n📝 Note: testing agent\",\n",
       " 'error': None}"
      ]
     },
     "execution_count": 14,
     "metadata": {},
     "output_type": "execute_result"
    }
   ],
   "source": [
    "agent.execute_request(\"Can you update the amount of the previous expense to 13.5€?\")"
   ]
  },
  {
   "cell_type": "markdown",
   "id": "28d2d0ef",
   "metadata": {},
   "source": [
    "#### Get Allowed Categories"
   ]
  },
  {
   "cell_type": "code",
   "execution_count": 33,
   "id": "b5a3d33e",
   "metadata": {},
   "outputs": [
    {
     "name": "stdout",
     "output_type": "stream",
     "text": [
      "\n",
      "\n",
      "\u001b[1m> Entering new AgentExecutor chain...\u001b[0m\n",
      "\u001b[32;1m\u001b[1;3m\n",
      "Invoking: `get_allowed_categories` with `{}`\n",
      "\n",
      "\n",
      "\u001b[0m\u001b[33;1m\u001b[1;3m{'main_categories': ['AP House Expenses', 'Car Expense', 'Corroios House Expenses', 'Drinks', 'Groceries', 'Lunch Office', 'Other', 'Phone', 'Restaurant Night', 'Variable'], 'sub_categories': ['Auto & Gas', 'Classes', 'Airbnb', 'Gear & Clothing', 'Groceries', 'Home Improvements', 'Mortgage', 'Parking', 'Paycheck', 'Repairs', 'Restaurants', 'Stuff', 'Subscriptions', 'Transfer from main to savings', 'Travel', 'Utilities', 'Coffee', 'Phone', 'Car Insurance', 'Education', 'Books', 'Doctor / Dentist', 'Emergency Fund', 'Fun / Entertainment', 'Furniture / Appliances', 'Transfer savings to main', 'ICU Car', 'Electricity', 'Water', 'Aesthetic', 'Netflix', 'Presents Family', 'Tech', 'Rent', 'Other', 'Taxi', 'Drinks', 'Sport', 'Lunch Office', 'Restaurant - Enjoyment', 'Haircut', 'Uber Eats', 'Vacations', 'Party', 'House Payment', 'Metro', 'Fine SS', 'Home Insurence', 'Apartment', 'Bank Comission', 'Laundry', 'Vet', 'Groceries Revolut', 'AP Home Utilities', 'Revolut', 'Fitness']}\u001b[0m\u001b[32;1m\u001b[1;3m- Main Categories: \n",
      "  1. AP House Expenses\n",
      "  2. Car Expense\n",
      "  3. Corroios House Expenses\n",
      "  4. Drinks\n",
      "  5. Groceries\n",
      "  6. Lunch Office\n",
      "  7. Other\n",
      "  8. Phone\n",
      "  9. Restaurant Night\n",
      "  10. Variable\n",
      "\n",
      "- Subcategories:\n",
      "  1. Auto & Gas\n",
      "  2. Classes\n",
      "  3. Airbnb\n",
      "  4. Gear & Clothing\n",
      "  5. Groceries\n",
      "  6. Home Improvements\n",
      "  7. Mortgage\n",
      "  8. Parking\n",
      "  9. Paycheck\n",
      "  10. Repairs\n",
      "  11. Restaurants\n",
      "  12. Stuff\n",
      "  13. Subscriptions\n",
      "  14. Transfer from main to savings\n",
      "  15. Travel\n",
      "  16. Utilities\n",
      "  17. Coffee\n",
      "  18. Phone\n",
      "  19. Car Insurance\n",
      "  20. Education\n",
      "  21. Books\n",
      "  22. Doctor / Dentist\n",
      "  23. Emergency Fund\n",
      "  24. Fun / Entertainment\n",
      "  25. Furniture / Appliances\n",
      "  26. Transfer savings to main\n",
      "  27. ICU Car\n",
      "  28. Electricity\n",
      "  29. Water\n",
      "  30. Aesthetic\n",
      "  31. Netflix\n",
      "  32. Presents Family\n",
      "  33. Tech\n",
      "  34. Rent\n",
      "  35. Other\n",
      "  36. Taxi\n",
      "  37. Drinks\n",
      "  38. Sport\n",
      "  39. Lunch Office\n",
      "  40. Restaurant - Enjoyment\n",
      "  41. Haircut\n",
      "  42. Uber Eats\n",
      "  43. Vacations\n",
      "  44. Party\n",
      "  45. House Payment\n",
      "  46. Metro\n",
      "  47. Fine SS\n",
      "  48. Home Insurence\n",
      "  49. Apartment\n",
      "  50. Bank Commission\n",
      "  51. Laundry\n",
      "  52. Vet\n",
      "  53. Groceries Revolut\n",
      "  54. AP Home Utilities\n",
      "  55. Revolut\n",
      "  56. Fitness\u001b[0m\n",
      "\n",
      "\u001b[1m> Finished chain.\u001b[0m\n"
     ]
    },
    {
     "data": {
      "text/plain": [
       "{'success': True,\n",
       " 'output': '- Main Categories: \\n  1. AP House Expenses\\n  2. Car Expense\\n  3. Corroios House Expenses\\n  4. Drinks\\n  5. Groceries\\n  6. Lunch Office\\n  7. Other\\n  8. Phone\\n  9. Restaurant Night\\n  10. Variable\\n\\n- Subcategories:\\n  1. Auto & Gas\\n  2. Classes\\n  3. Airbnb\\n  4. Gear & Clothing\\n  5. Groceries\\n  6. Home Improvements\\n  7. Mortgage\\n  8. Parking\\n  9. Paycheck\\n  10. Repairs\\n  11. Restaurants\\n  12. Stuff\\n  13. Subscriptions\\n  14. Transfer from main to savings\\n  15. Travel\\n  16. Utilities\\n  17. Coffee\\n  18. Phone\\n  19. Car Insurance\\n  20. Education\\n  21. Books\\n  22. Doctor / Dentist\\n  23. Emergency Fund\\n  24. Fun / Entertainment\\n  25. Furniture / Appliances\\n  26. Transfer savings to main\\n  27. ICU Car\\n  28. Electricity\\n  29. Water\\n  30. Aesthetic\\n  31. Netflix\\n  32. Presents Family\\n  33. Tech\\n  34. Rent\\n  35. Other\\n  36. Taxi\\n  37. Drinks\\n  38. Sport\\n  39. Lunch Office\\n  40. Restaurant - Enjoyment\\n  41. Haircut\\n  42. Uber Eats\\n  43. Vacations\\n  44. Party\\n  45. House Payment\\n  46. Metro\\n  47. Fine SS\\n  48. Home Insurence\\n  49. Apartment\\n  50. Bank Commission\\n  51. Laundry\\n  52. Vet\\n  53. Groceries Revolut\\n  54. AP Home Utilities\\n  55. Revolut\\n  56. Fitness',\n",
       " 'error': None}"
      ]
     },
     "execution_count": 33,
     "metadata": {},
     "output_type": "execute_result"
    }
   ],
   "source": [
    "prompt = \"What are the allowed categories?\"\n",
    "agent.execute_request(prompt)"
   ]
  },
  {
   "cell_type": "markdown",
   "id": "28c27ddc",
   "metadata": {},
   "source": [
    "#### Get spendings by year and month"
   ]
  },
  {
   "cell_type": "code",
   "execution_count": 34,
   "id": "bdf6fc3e",
   "metadata": {},
   "outputs": [
    {
     "name": "stdout",
     "output_type": "stream",
     "text": [
      "\n",
      "\n",
      "\u001b[1m> Entering new AgentExecutor chain...\u001b[0m\n",
      "\u001b[32;1m\u001b[1;3m\n",
      "Invoking: `get_spendings_by_year_and_month` with `{}`\n",
      "\n",
      "\n",
      "\u001b[0m\u001b[36;1m\u001b[1;3m   date     month  total_spent  average_spent  count\n",
      "0  2025   January      2101.56      55.304211     38\n",
      "1  2025  February      1750.00      67.307692     26\n",
      "2  2025     March      1577.15      47.792424     33\n",
      "3  2025     April      2195.29      46.708298     47\n",
      "4  2025       May      1737.72      37.776522     46\n",
      "5  2025      June      2028.12      41.390204     49\n",
      "6  2025      July      1820.64      45.516000     40\n",
      "7  2025    August      1926.67      60.208438     32\u001b[0m\u001b[32;1m\u001b[1;3m### Monthly Spending Report for the Last 3 Months\n",
      "\n",
      "- **June 2025**\n",
      "  - Total Spent: €2028.12\n",
      "  - Average Spent: €41.39\n",
      "  - Number of Expenses: 49\n",
      "\n",
      "- **July 2025**\n",
      "  - Total Spent: €1820.64\n",
      "  - Average Spent: €45.52\n",
      "  - Number of Expenses: 40\n",
      "\n",
      "- **August 2025**\n",
      "  - Total Spent: €1926.67\n",
      "  - Average Spent: €60.21\n",
      "  - Number of Expenses: 32\u001b[0m\n",
      "\n",
      "\u001b[1m> Finished chain.\u001b[0m\n"
     ]
    },
    {
     "data": {
      "text/plain": [
       "{'success': True,\n",
       " 'output': '### Monthly Spending Report for the Last 3 Months\\n\\n- **June 2025**\\n  - Total Spent: €2028.12\\n  - Average Spent: €41.39\\n  - Number of Expenses: 49\\n\\n- **July 2025**\\n  - Total Spent: €1820.64\\n  - Average Spent: €45.52\\n  - Number of Expenses: 40\\n\\n- **August 2025**\\n  - Total Spent: €1926.67\\n  - Average Spent: €60.21\\n  - Number of Expenses: 32',\n",
       " 'error': None}"
      ]
     },
     "execution_count": 34,
     "metadata": {},
     "output_type": "execute_result"
    }
   ],
   "source": [
    "prompt = \"Based on my expenses in the csv file, can you do a monthly spending report of the last 3 months only? We are in august\"\n",
    "agent.execute_request(prompt)"
   ]
  },
  {
   "cell_type": "markdown",
   "id": "788b0abf",
   "metadata": {},
   "source": [
    "### Get spendings by category for specific month"
   ]
  },
  {
   "cell_type": "code",
   "execution_count": null,
   "id": "d12a1319",
   "metadata": {},
   "outputs": [
    {
     "name": "stdout",
     "output_type": "stream",
     "text": [
      "\n",
      "\n",
      "\u001b[1m> Entering new AgentExecutor chain...\u001b[0m\n",
      "\u001b[32;1m\u001b[1;3m\n",
      "Invoking: `get_current_month_tool` with `{}`\n",
      "\n",
      "\n",
      "\u001b[0m\u001b[38;5;200m\u001b[1;3m2025-08\u001b[0m\u001b[32;1m\u001b[1;3m\n",
      "Invoking: `get_spendings_by_category_for_specific_month` with `{'year': 2025, 'month': 8}`\n",
      "\n",
      "\n",
      "\u001b[0m\u001b[38;5;200m\u001b[1;3m             main_category  total_spent  average_spent  count\n",
      "0        AP House Expenses       500.00     500.000000      1\n",
      "1              Car Expense        60.01      30.005000      2\n",
      "2  Corroios House Expenses       457.58     228.790000      2\n",
      "3                   Drinks       134.30      19.185714      7\n",
      "4                Groceries       213.58      42.716000      5\n",
      "5                    Other        71.20      35.600000      2\n",
      "6         Restaurant Night       223.55      44.710000      5\n",
      "7                 Variable       266.45      33.306250      8\u001b[0m\u001b[32;1m\u001b[1;3mHere are the spendings by category for the current month (August 2025):\n",
      "\n",
      "- **AP House Expenses**: €500.00\n",
      "- **Car Expense**: €60.01\n",
      "- **Corroios House Expenses**: €457.58\n",
      "- **Drinks**: €134.30\n",
      "- **Groceries**: €213.58\n",
      "- **Other**: €71.20\n",
      "- **Restaurant Night**: €223.55\n",
      "- **Variable**: €266.45\u001b[0m\n",
      "\n",
      "\u001b[1m> Finished chain.\u001b[0m\n"
     ]
    },
    {
     "data": {
      "text/plain": [
       "{'success': True,\n",
       " 'output': 'Here are the spendings by category for the current month (August 2025):\\n\\n- **AP House Expenses**: €500.00\\n- **Car Expense**: €60.01\\n- **Corroios House Expenses**: €457.58\\n- **Drinks**: €134.30\\n- **Groceries**: €213.58\\n- **Other**: €71.20\\n- **Restaurant Night**: €223.55\\n- **Variable**: €266.45',\n",
       " 'error': None}"
      ]
     },
     "execution_count": 37,
     "metadata": {},
     "output_type": "execute_result"
    }
   ],
   "source": [
    "input_text = \"Can I get the spendings by category for the current month?\"\n",
    "\n",
    "agent.execute_request(input_text)"
   ]
  },
  {
   "cell_type": "markdown",
   "id": "8ac6460a",
   "metadata": {},
   "source": [
    "### Get spendings by main and sub category for specific month"
   ]
  },
  {
   "cell_type": "code",
   "execution_count": null,
   "id": "716722a8",
   "metadata": {},
   "outputs": [
    {
     "name": "stdout",
     "output_type": "stream",
     "text": [
      "\n",
      "\n",
      "\u001b[1m> Entering new AgentExecutor chain...\u001b[0m\n",
      "\u001b[32;1m\u001b[1;3m\n",
      "Invoking: `get_current_month_tool` with `{}`\n",
      "\n",
      "\n",
      "\u001b[0m\u001b[38;5;200m\u001b[1;3m2025-08\u001b[0m\u001b[32;1m\u001b[1;3m\n",
      "Invoking: `get_spendings_by_main_and_subcategory_for_specific_month` with `{'year': 2025, 'month': 8}`\n",
      "\n",
      "\n",
      "\u001b[0m\u001b[36;1m\u001b[1;3m              main_category            sub_category  total_spent  \\\n",
      "0         AP House Expenses           House Payment       500.00   \n",
      "1               Car Expense              Auto & Gas        60.01   \n",
      "2   Corroios House Expenses                    Rent       450.00   \n",
      "3   Corroios House Expenses                   Water         7.58   \n",
      "4                    Drinks                  Drinks       134.30   \n",
      "5                 Groceries               Groceries       213.58   \n",
      "6                     Other                   Other        71.20   \n",
      "7          Restaurant Night  Restaurant - Enjoyment       223.55   \n",
      "8                  Variable               Apartment        88.00   \n",
      "9                  Variable              Auto & Gas       101.49   \n",
      "10                 Variable                  Coffee        11.85   \n",
      "11                 Variable         Gear & Clothing        13.50   \n",
      "12                 Variable           Subscriptions        37.61   \n",
      "13                 Variable               Uber Eats        14.00   \n",
      "\n",
      "    average_spent  count  \n",
      "0      500.000000      1  \n",
      "1       30.005000      2  \n",
      "2      450.000000      1  \n",
      "3        7.580000      1  \n",
      "4       19.185714      7  \n",
      "5       42.716000      5  \n",
      "6       35.600000      2  \n",
      "7       44.710000      5  \n",
      "8       88.000000      1  \n",
      "9      101.490000      1  \n",
      "10       5.925000      2  \n",
      "11      13.500000      1  \n",
      "12      18.805000      2  \n",
      "13      14.000000      1  \u001b[0m\u001b[32;1m\u001b[1;3m### Spendings by Category and Sub-Category for Current Month (August 2025):\n",
      "\n",
      "| Main Category          | Sub-Category          | Total Spent (€) | Average Spent (€) | Count |\n",
      "|------------------------|-----------------------|-----------------|-------------------|-------|\n",
      "| AP House Expenses      | House Payment         | 500.00          | 500.00            | 1     |\n",
      "| Car Expense            | Auto & Gas            | 60.01           | 30.01             | 2     |\n",
      "| Corroios House Expenses| Rent                  | 450.00          | 450.00            | 1     |\n",
      "| Corroios House Expenses| Water                 | 7.58            | 7.58              | 1     |\n",
      "| Drinks                 | Drinks                | 134.30          | 19.19             | 7     |\n",
      "| Groceries              | Groceries             | 213.58          | 42.72             | 5     |\n",
      "| Other                  | Other                 | 71.20           | 35.60             | 2     |\n",
      "| Restaurant Night       | Restaurant - Enjoyment| 223.55          | 44.71             | 5     |\n",
      "| Variable               | Apartment             | 88.00           | 88.00             | 1     |\n",
      "| Variable               | Auto & Gas            | 101.49          | 101.49            | 1     |\n",
      "| Variable               | Coffee                | 11.85           | 5.93              | 2     |\n",
      "| Variable               | Gear & Clothing       | 13.50           | 13.50             | 1     |\n",
      "| Variable               | Subscriptions         | 37.61           | 18.81             | 2     |\n",
      "| Variable               | Uber Eats             | 14.00           | 14.00             | 1     |\n",
      "\n",
      "This is the breakdown of spendings by category and sub-category for the current month of August 2025.\u001b[0m\n",
      "\n",
      "\u001b[1m> Finished chain.\u001b[0m\n"
     ]
    },
    {
     "data": {
      "text/plain": [
       "{'success': True,\n",
       " 'output': '### Spendings by Category and Sub-Category for Current Month (August 2025):\\n\\n| Main Category          | Sub-Category          | Total Spent (€) | Average Spent (€) | Count |\\n|------------------------|-----------------------|-----------------|-------------------|-------|\\n| AP House Expenses      | House Payment         | 500.00          | 500.00            | 1     |\\n| Car Expense            | Auto & Gas            | 60.01           | 30.01             | 2     |\\n| Corroios House Expenses| Rent                  | 450.00          | 450.00            | 1     |\\n| Corroios House Expenses| Water                 | 7.58            | 7.58              | 1     |\\n| Drinks                 | Drinks                | 134.30          | 19.19             | 7     |\\n| Groceries              | Groceries             | 213.58          | 42.72             | 5     |\\n| Other                  | Other                 | 71.20           | 35.60             | 2     |\\n| Restaurant Night       | Restaurant - Enjoyment| 223.55          | 44.71             | 5     |\\n| Variable               | Apartment             | 88.00           | 88.00             | 1     |\\n| Variable               | Auto & Gas            | 101.49          | 101.49            | 1     |\\n| Variable               | Coffee                | 11.85           | 5.93              | 2     |\\n| Variable               | Gear & Clothing       | 13.50           | 13.50             | 1     |\\n| Variable               | Subscriptions         | 37.61           | 18.81             | 2     |\\n| Variable               | Uber Eats             | 14.00           | 14.00             | 1     |\\n\\nThis is the breakdown of spendings by category and sub-category for the current month of August 2025.',\n",
       " 'error': None}"
      ]
     },
     "execution_count": 38,
     "metadata": {},
     "output_type": "execute_result"
    }
   ],
   "source": [
    "input_text = (\n",
    "    \"Can I get the spendings by category and sub_category for this current month?\"\n",
    ")\n",
    "\n",
    "agent.execute_request(input_text)"
   ]
  },
  {
   "cell_type": "markdown",
   "id": "24cca642",
   "metadata": {},
   "source": [
    "### Get spendings by account for specific month"
   ]
  },
  {
   "cell_type": "code",
   "execution_count": null,
   "id": "82247254",
   "metadata": {},
   "outputs": [
    {
     "name": "stdout",
     "output_type": "stream",
     "text": [
      "\n",
      "\n",
      "\u001b[1m> Entering new AgentExecutor chain...\u001b[0m\n",
      "\u001b[32;1m\u001b[1;3m\n",
      "Invoking: `get_current_month_tool` with `{}`\n",
      "\n",
      "\n",
      "\u001b[0m\u001b[38;5;200m\u001b[1;3m2025-08\u001b[0m\u001b[32;1m\u001b[1;3m\n",
      "Invoking: `get_spendings_by_account_for_specific_month` with `{'year': 2025, 'month': 8}`\n",
      "\n",
      "\n",
      "\u001b[0m\u001b[33;1m\u001b[1;3m        account  total_spent  average_spent  count\n",
      "0  Food Account       159.50      53.166667      3\n",
      "1          Main        98.00      19.600000      5\n",
      "2  Main Account      1682.67      67.306800     25\u001b[0m\u001b[32;1m\u001b[1;3m# Spendings by Account for August 2025:\n",
      "\n",
      "| Account       | Total Spent | Average Spent | Count |\n",
      "|---------------|-------------|---------------|-------|\n",
      "| Food Account  | €159.50     | €53.17        | 3     |\n",
      "| Main          | €98.00      | €19.60        | 5     |\n",
      "| Main Account  | €1682.67    | €67.31        | 25    |\u001b[0m\n",
      "\n",
      "\u001b[1m> Finished chain.\u001b[0m\n"
     ]
    },
    {
     "data": {
      "text/plain": [
       "{'success': True,\n",
       " 'output': '# Spendings by Account for August 2025:\\n\\n| Account       | Total Spent | Average Spent | Count |\\n|---------------|-------------|---------------|-------|\\n| Food Account  | €159.50     | €53.17        | 3     |\\n| Main          | €98.00      | €19.60        | 5     |\\n| Main Account  | €1682.67    | €67.31        | 25    |',\n",
       " 'error': None}"
      ]
     },
     "execution_count": 41,
     "metadata": {},
     "output_type": "execute_result"
    }
   ],
   "source": [
    "input_text = \"Can I get the spendings by account for this current month?\"\n",
    "\n",
    "agent.execute_request(input_text)"
   ]
  },
  {
   "cell_type": "markdown",
   "id": "93405a85",
   "metadata": {},
   "source": [
    "### Get spendings full report"
   ]
  },
  {
   "cell_type": "code",
   "execution_count": null,
   "id": "302359dc",
   "metadata": {},
   "outputs": [
    {
     "name": "stdout",
     "output_type": "stream",
     "text": [
      "\n",
      "\n",
      "\u001b[1m> Entering new AgentExecutor chain...\u001b[0m\n",
      "\u001b[32;1m\u001b[1;3m\n",
      "Invoking: `get_current_month_tool` with `{}`\n",
      "\n",
      "\n",
      "\u001b[0m\u001b[38;5;200m\u001b[1;3m2025-08\u001b[0m\u001b[32;1m\u001b[1;3m### Full Spending Report for August 2025:\n",
      "\n",
      "#### Total Spending by Main Category:\n",
      "- AP House Expenses: €0.00\n",
      "- Car Expense: €0.00\n",
      "- Corroios House Expenses: €0.00\n",
      "- Drinks: €0.00\n",
      "- Groceries: €0.00\n",
      "- Lunch Office: €0.00\n",
      "- Other: €0.00\n",
      "- Phone: €0.00\n",
      "- Restaurant Night: €0.00\n",
      "- Variable: €0.00\n",
      "\n",
      "#### Total Spending by Subcategory:\n",
      "- No data available for this month.\n",
      "\n",
      "#### Total Spending by Main and Subcategory:\n",
      "- No data available for this month.\n",
      "\n",
      "#### Total Spending by Account:\n",
      "- Main Account: €0.00\n",
      "- Savings Account: €0.00\u001b[0m\n",
      "\n",
      "\u001b[1m> Finished chain.\u001b[0m\n"
     ]
    },
    {
     "data": {
      "text/plain": [
       "{'success': True,\n",
       " 'output': '### Full Spending Report for August 2025:\\n\\n#### Total Spending by Main Category:\\n- AP House Expenses: €0.00\\n- Car Expense: €0.00\\n- Corroios House Expenses: €0.00\\n- Drinks: €0.00\\n- Groceries: €0.00\\n- Lunch Office: €0.00\\n- Other: €0.00\\n- Phone: €0.00\\n- Restaurant Night: €0.00\\n- Variable: €0.00\\n\\n#### Total Spending by Subcategory:\\n- No data available for this month.\\n\\n#### Total Spending by Main and Subcategory:\\n- No data available for this month.\\n\\n#### Total Spending by Account:\\n- Main Account: €0.00\\n- Savings Account: €0.00',\n",
       " 'error': None}"
      ]
     },
     "execution_count": 40,
     "metadata": {},
     "output_type": "execute_result"
    }
   ],
   "source": [
    "input_text = \"Can I get the full and detailed spending report for this current month? Include as much info as possible\"\n",
    "\n",
    "# input_text = \"Can I get the spendings by category and sub_category for the month of June?\"\n",
    "\n",
    "agent.execute_request(input_text)"
   ]
  }
 ],
 "metadata": {
  "kernelspec": {
   "display_name": "finance-tracker-agent-5uqbXas2",
   "language": "python",
   "name": "python3"
  },
  "language_info": {
   "codemirror_mode": {
    "name": "ipython",
    "version": 3
   },
   "file_extension": ".py",
   "mimetype": "text/x-python",
   "name": "python",
   "nbconvert_exporter": "python",
   "pygments_lexer": "ipython3",
   "version": "3.10.6"
  }
 },
 "nbformat": 4,
 "nbformat_minor": 5
}
